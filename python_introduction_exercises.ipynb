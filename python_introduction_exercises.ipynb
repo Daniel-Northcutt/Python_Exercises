{
 "cells": [
  {
   "cell_type": "code",
   "execution_count": 5,
   "id": "92360bef",
   "metadata": {},
   "outputs": [
    {
     "name": "stdout",
     "output_type": "stream",
     "text": [
      "Hello World!\n",
      "Hello World! I am excited to start expanding my education of Python with codeup.\n"
     ]
    }
   ],
   "source": [
    "greeting = ('Hello World!')\n",
    "print (greeting)\n",
    "\n",
    "response = ('I am excited to start expanding my education of Python with codeup.')\n",
    "\n",
    "print (greeting, response)"
   ]
  }
 ],
 "metadata": {
  "kernelspec": {
   "display_name": "Python 3",
   "language": "python",
   "name": "python3"
  },
  "language_info": {
   "codemirror_mode": {
    "name": "ipython",
    "version": 3
   },
   "file_extension": ".py",
   "mimetype": "text/x-python",
   "name": "python",
   "nbconvert_exporter": "python",
   "pygments_lexer": "ipython3",
   "version": "3.8.8"
  }
 },
 "nbformat": 4,
 "nbformat_minor": 5
}
