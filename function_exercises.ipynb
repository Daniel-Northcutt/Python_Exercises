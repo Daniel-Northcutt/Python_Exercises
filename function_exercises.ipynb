{
 "cells": [
  {
   "cell_type": "code",
   "execution_count": 2,
   "id": "6cf35240",
   "metadata": {},
   "outputs": [],
   "source": [
    "#1.\n",
    "#define variables for function and establish True or not\n",
    "def is_two(x):\n",
    "    return (x == 2) or (x == '2')"
   ]
  },
  {
   "cell_type": "code",
   "execution_count": 4,
   "id": "4ccfad7d",
   "metadata": {},
   "outputs": [
    {
     "data": {
      "text/plain": [
       "True"
      ]
     },
     "execution_count": 4,
     "metadata": {},
     "output_type": "execute_result"
    }
   ],
   "source": [
    "r = '2'\n",
    "\n",
    "is_two(r)"
   ]
  },
  {
   "cell_type": "code",
   "execution_count": 7,
   "id": "946fa62f",
   "metadata": {},
   "outputs": [],
   "source": [
    "#2.\n",
    "#define vowels - define if vowels are in function and establish a boolean result\n",
    "vowels = 'aeiou'\n",
    "def is_vowel(v):\n",
    "    for x in v:\n",
    "        if x in vowels:\n",
    "            return True\n",
    "    else:\n",
    "        return False\n"
   ]
  },
  {
   "cell_type": "code",
   "execution_count": 9,
   "id": "7de794e1",
   "metadata": {},
   "outputs": [
    {
     "data": {
      "text/plain": [
       "True"
      ]
     },
     "execution_count": 9,
     "metadata": {},
     "output_type": "execute_result"
    }
   ],
   "source": [
    "r = 'a'\n",
    "is_vowel(r)"
   ]
  },
  {
   "cell_type": "code",
   "execution_count": 11,
   "id": "52e4462b",
   "metadata": {},
   "outputs": [
    {
     "data": {
      "text/plain": [
       "False"
      ]
     },
     "execution_count": 11,
     "metadata": {},
     "output_type": "execute_result"
    }
   ],
   "source": [
    "r = 'p'\n",
    "is_vowel (r)"
   ]
  },
  {
   "cell_type": "code",
   "execution_count": 14,
   "id": "f0d7a6a5",
   "metadata": {},
   "outputs": [],
   "source": [
    "#3\n",
    "#same as problem 2 but reverse for boolean statements\n",
    "vowels = 'aeiou'\n",
    "def is_consonant(c):\n",
    "    for x in c:\n",
    "        if x not in vowels:\n",
    "            return True\n",
    "    else:\n",
    "        return False"
   ]
  },
  {
   "cell_type": "code",
   "execution_count": 16,
   "id": "ee7da651",
   "metadata": {},
   "outputs": [
    {
     "data": {
      "text/plain": [
       "True"
      ]
     },
     "execution_count": 16,
     "metadata": {},
     "output_type": "execute_result"
    }
   ],
   "source": [
    "r = 'p'\n",
    "is_consonant(r)"
   ]
  },
  {
   "cell_type": "code",
   "execution_count": 18,
   "id": "ad720b01",
   "metadata": {},
   "outputs": [],
   "source": [
    "#4\n",
    "#define vowels - within function if object is vowel placed as first letter of string [0] express boolean\n",
    "vowels = 'aeiou'\n",
    "def is_cap(word):\n",
    "    if word[0] not in vowels:\n",
    "        return True\n",
    "    else:\n",
    "        return False"
   ]
  },
  {
   "cell_type": "code",
   "execution_count": 20,
   "id": "79b9221e",
   "metadata": {},
   "outputs": [
    {
     "data": {
      "text/plain": [
       "True"
      ]
     },
     "execution_count": 20,
     "metadata": {},
     "output_type": "execute_result"
    }
   ],
   "source": [
    "r = 'pie'\n",
    "is_cap(r)"
   ]
  },
  {
   "cell_type": "code",
   "execution_count": 25,
   "id": "5172eade",
   "metadata": {},
   "outputs": [
    {
     "data": {
      "text/plain": [
       "10.0"
      ]
     },
     "execution_count": 25,
     "metadata": {},
     "output_type": "execute_result"
    }
   ],
   "source": [
    "#5\n",
    "#define two values within function and express the math relationship\n",
    "def calculate_tip(bill, tip):\n",
    "    return bill * tip\n",
    "\n",
    "bill = 40\n",
    "tip = .25\n",
    "\n",
    "calculate_tip(bill, tip)"
   ]
  },
  {
   "cell_type": "code",
   "execution_count": 28,
   "id": "00045773",
   "metadata": {},
   "outputs": [
    {
     "name": "stdout",
     "output_type": "stream",
     "text": [
      "The price after the discount is: \n"
     ]
    },
    {
     "data": {
      "text/plain": [
       "117.45"
      ]
     },
     "execution_count": 28,
     "metadata": {},
     "output_type": "execute_result"
    }
   ],
   "source": [
    "#6\n",
    "#define two values within function and express the math relationship\n",
    "def apply_discount(price,discount):\n",
    "    return price - (price * discount)\n",
    "\n",
    "price = 135\n",
    "discount = .13\n",
    "\n",
    "print(\"The price after the discount is: \")\n",
    "apply_discount(price, discount)"
   ]
  },
  {
   "cell_type": "code",
   "execution_count": 95,
   "id": "0d647d82",
   "metadata": {},
   "outputs": [
    {
     "data": {
      "text/plain": [
       "900000000.5"
      ]
     },
     "execution_count": 95,
     "metadata": {},
     "output_type": "execute_result"
    }
   ],
   "source": [
    "#7\n",
    "# define object(string) within function - expression to replace ',' with blank space ' ' then return as float\n",
    "def handle_commas(string):\n",
    "    #commas = ','\n",
    "    for x in string:\n",
    "        string = string.replace(',','')\n",
    "    return float(string)\n",
    "\n",
    "test = '9,000,00,,,000.5'\n",
    "handle_commas(test)"
   ]
  },
  {
   "cell_type": "code",
   "execution_count": 35,
   "id": "f7731b43",
   "metadata": {},
   "outputs": [
    {
     "name": "stdout",
     "output_type": "stream",
     "text": [
      "F\n"
     ]
    }
   ],
   "source": [
    "#8\n",
    "#define conditions within the function to give result based on user input\n",
    "def get_letter_grade(grade):\n",
    "    if grade >= 90:\n",
    "         print ('A')\n",
    "    elif grade >= 80:\n",
    "        print('B')\n",
    "    elif grade >= 70:\n",
    "        print('C')\n",
    "    elif grade >= 60:\n",
    "        print('D')\n",
    "    else:\n",
    "        print('F')\n",
    "\n",
    "score = 54\n",
    "get_letter_grade(score)"
   ]
  },
  {
   "cell_type": "code",
   "execution_count": 36,
   "id": "f0eaa4aa",
   "metadata": {},
   "outputs": [
    {
     "data": {
      "text/plain": [
       "'ctbr'"
      ]
     },
     "execution_count": 36,
     "metadata": {},
     "output_type": "execute_result"
    }
   ],
   "source": [
    "#9\n",
    "# combination of problem #3 and problem #7\n",
    "# define vowels and create expression to elminate (replace)\n",
    "def remove_vowels(string):\n",
    "    vowels = 'aeiou'\n",
    "    for x in string:\n",
    "        if x in vowels:\n",
    "            string = string.replace(x, '')\n",
    "    return string\n",
    "\n",
    "word = 'october'\n",
    "remove_vowels(word)"
   ]
  },
  {
   "cell_type": "code",
   "execution_count": 110,
   "id": "ca5577b3",
   "metadata": {},
   "outputs": [
    {
     "name": "stdout",
     "output_type": "stream",
     "text": [
      "hello_world\n",
      "testing_solution\n"
     ]
    }
   ],
   "source": [
    "#10.\n",
    "\n",
    "\n",
    "def normalize_name(string):\n",
    "    while not string[0].isalpha(): #while first character is not .isalpha replace string\n",
    "        string = string[1:]\n",
    "    string = str(string.strip()) #delete white space on either side of string\n",
    "    string = str(string.replace(' ', '_')) #replace white space with underscore\n",
    "    string = str(string.lower()) #lowercase all characters\n",
    "    return str(string)\n",
    "\n",
    "\n",
    "\n",
    "print(normalize_name('$    Hello WORLD    '))\n",
    "print(normalize_name('#    TesTing SolUtion    '))\n",
    "# can write first condition also as:\n",
    "# while string[0].isalpha() == False:\n",
    "#   string = string[1:]"
   ]
  },
  {
   "cell_type": "code",
   "execution_count": 105,
   "id": "93808a6d",
   "metadata": {},
   "outputs": [
    {
     "data": {
      "text/plain": [
       "[1, 21, 29, 49, 94]"
      ]
     },
     "execution_count": 105,
     "metadata": {},
     "output_type": "execute_result"
    }
   ],
   "source": [
    "# 11 write a function called cumulative_sum\n",
    "def cumulative_sum(input_list):\n",
    "    cum_list = []\n",
    "    total = 0\n",
    "    for num in input_list:\n",
    "        total += num\n",
    "        cum_list.append(total)\n",
    "    return cum_list\n",
    "        \n",
    "input_list = [1, 20, 8, 20, 45]\n",
    "\n",
    "cumulative_sum(input_list)"
   ]
  },
  {
   "cell_type": "code",
   "execution_count": 112,
   "id": "f021438d",
   "metadata": {},
   "outputs": [
    {
     "name": "stdout",
     "output_type": "stream",
     "text": [
      "00:24\n",
      "08:45\n"
     ]
    }
   ],
   "source": [
    "#Create a function named twelveto24. It should accept a string in the format 10:45am or 4:30pm and return a string that is the representation of the time in a 24-hour format. Bonus write a function that does the opposite.\n",
    "\n",
    "## Bonus Not Complete as of 10/06 - will finish\n",
    "def rem (time12):\n",
    "    time12 = str(time12.lower())\n",
    "    time24 = ''\n",
    "    \n",
    "    if time12[-2:] == 'am':\n",
    "        if time12[0:2] == '12':\n",
    "            time24 = '00' + time12[2:-2]\n",
    "        else:\n",
    "            time24 = time12[0:-2]\n",
    "        #elif: int(time12[0:2]) > 12:\n",
    "         #       time24 = \n",
    "        \n",
    "        return time24\n",
    "    \n",
    "\n",
    "    ### you have established the am conditions - changed 12am to 00 and elimated 'am'\n",
    "print (rem('12:24am'))\n",
    "print (rem('08:45am'))\n",
    "\n",
    "#### you have elimated am and established the condition for 12am"
   ]
  },
  {
   "cell_type": "code",
   "execution_count": 119,
   "id": "edb00362",
   "metadata": {},
   "outputs": [
    {
     "name": "stdout",
     "output_type": "stream",
     "text": [
      "[20]\n"
     ]
    }
   ],
   "source": [
    "###2nd part of code for bonus not complete\n",
    "\n",
    "def rem2 (time12):\n",
    "    time12 = str(time12.lower())\n",
    "    time24 = ''\n",
    "    \n",
    "    if time12[-2:] == 'pm':\n",
    "        time = [int(time12[0:2]) + 12]# + [(time12[2:])]\n",
    "        \n",
    "        #time24 = (int(time12[0:2]) + '12')\n",
    "     \n",
    "        #time24 = time12[0:-2]\n",
    "   \n",
    "        return time\n",
    "print(rem2('08:45pm'))"
   ]
  }
 ],
 "metadata": {
  "kernelspec": {
   "display_name": "Python 3",
   "language": "python",
   "name": "python3"
  },
  "language_info": {
   "codemirror_mode": {
    "name": "ipython",
    "version": 3
   },
   "file_extension": ".py",
   "mimetype": "text/x-python",
   "name": "python",
   "nbconvert_exporter": "python",
   "pygments_lexer": "ipython3",
   "version": "3.8.8"
  }
 },
 "nbformat": 4,
 "nbformat_minor": 5
}
