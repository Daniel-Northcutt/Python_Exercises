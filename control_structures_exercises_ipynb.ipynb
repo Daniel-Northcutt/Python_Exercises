{
 "cells": [
  {
   "cell_type": "code",
   "execution_count": 147,
   "id": "89dcc4d0",
   "metadata": {},
   "outputs": [
    {
     "name": "stdout",
     "output_type": "stream",
     "text": [
      "What day of the week is it? Wednesday\n",
      "It is not Monday today\n"
     ]
    }
   ],
   "source": [
    "#1a\n",
    "\n",
    "is_monday = 'Monday'\n",
    "ask_user = input('What day of the week is it? ')\n",
    "if ask_user == is_monday:\n",
    "    print('It is Monday today!')\n",
    "else: \n",
    "    print('It is not Monday today')\n",
    "\n",
    "\n"
   ]
  },
  {
   "cell_type": "code",
   "execution_count": 124,
   "id": "86105181",
   "metadata": {},
   "outputs": [
    {
     "name": "stdout",
     "output_type": "stream",
     "text": [
      "What day of the week is it? Tuesday\n",
      "It is the weekday, time to code\n"
     ]
    }
   ],
   "source": [
    "#1b\n",
    "\n",
    "is_weekend = 'Saturday', 'Sunday'\n",
    "\n",
    "weekend_ask = input('What day of the week is it? ')\n",
    "\n",
    "if weekend_ask == is_weekend:\n",
    "    \n",
    "    print('It is the weekend! Enjoy your day off')\n",
    "else:\n",
    "    print('It is the weekday, time to code')"
   ]
  },
  {
   "cell_type": "code",
   "execution_count": 151,
   "id": "470eb169",
   "metadata": {},
   "outputs": [
    {
     "name": "stdout",
     "output_type": "stream",
     "text": [
      "Total Wages: 1199.125\n"
     ]
    }
   ],
   "source": [
    "#1c\n",
    "num_hours_work = 43.5\n",
    "hourly_rate = 26.5\n",
    "\n",
    "#paycheck = num_hours_work + hourly_rate + overtime\n",
    "\n",
    "\n",
    "if num_hours_work <= 40:\n",
    "    pay = hourly_rate * num_hours_work\n",
    "\n",
    "if num_hours_work > 40:\n",
    "    overtime = (num_hours_work - 40) * (1.5 * hourly_rate)\n",
    "    pay = overtime + (40 * hourly_rate)\n",
    "  \n",
    "\n",
    "    \n",
    "print(f\"Total Wages: {pay}\")\n",
    "\n",
    "\n",
    "    "
   ]
  },
  {
   "cell_type": "code",
   "execution_count": 152,
   "id": "064d7563",
   "metadata": {
    "collapsed": true
   },
   "outputs": [
    {
     "name": "stdout",
     "output_type": "stream",
     "text": [
      "5\n",
      "6\n",
      "7\n",
      "8\n",
      "9\n",
      "10\n",
      "11\n",
      "12\n",
      "13\n",
      "14\n",
      "15\n"
     ]
    }
   ],
   "source": [
    "#2a\n",
    "i = 5\n",
    "\n",
    "while i <= 15:\n",
    "    print (i)\n",
    "    i = i + 1\n"
   ]
  },
  {
   "cell_type": "code",
   "execution_count": 133,
   "id": "31a62b9e",
   "metadata": {
    "scrolled": true
   },
   "outputs": [
    {
     "name": "stdout",
     "output_type": "stream",
     "text": [
      "0\n",
      "2\n",
      "4\n",
      "6\n",
      "8\n",
      "10\n",
      "12\n",
      "14\n",
      "16\n",
      "18\n",
      "20\n",
      "22\n",
      "24\n",
      "26\n",
      "28\n",
      "30\n",
      "32\n",
      "34\n",
      "36\n",
      "38\n",
      "40\n",
      "42\n",
      "44\n",
      "46\n",
      "48\n",
      "50\n",
      "52\n",
      "54\n",
      "56\n",
      "58\n",
      "60\n",
      "62\n",
      "64\n",
      "66\n",
      "68\n",
      "70\n",
      "72\n",
      "74\n",
      "76\n",
      "78\n",
      "80\n",
      "82\n",
      "84\n",
      "86\n",
      "88\n",
      "90\n",
      "92\n",
      "94\n",
      "96\n",
      "98\n",
      "100\n"
     ]
    }
   ],
   "source": [
    "\n",
    "i=0\n",
    "while i <= 100:\n",
    "    print (i)\n",
    "    i += 2"
   ]
  },
  {
   "cell_type": "code",
   "execution_count": 46,
   "id": "5c882dba",
   "metadata": {
    "collapsed": true
   },
   "outputs": [
    {
     "name": "stdout",
     "output_type": "stream",
     "text": [
      "100\n",
      "95\n",
      "90\n",
      "85\n",
      "80\n",
      "75\n",
      "70\n",
      "65\n",
      "60\n",
      "55\n",
      "50\n",
      "45\n",
      "40\n",
      "35\n",
      "30\n",
      "25\n",
      "20\n",
      "15\n",
      "10\n",
      "5\n",
      "0\n",
      "-5\n",
      "-10\n"
     ]
    }
   ],
   "source": [
    "x= 100\n",
    "while x >= -10:\n",
    "    print (x)\n",
    "    x = x -5"
   ]
  },
  {
   "cell_type": "code",
   "execution_count": 153,
   "id": "79c93a20",
   "metadata": {},
   "outputs": [
    {
     "name": "stdout",
     "output_type": "stream",
     "text": [
      "2\n",
      "4\n",
      "16\n",
      "256\n",
      "65536\n"
     ]
    }
   ],
   "source": [
    "y = 2\n",
    "while y <= 1000000:\n",
    "    print(y)\n",
    "    y = y**2"
   ]
  },
  {
   "cell_type": "code",
   "execution_count": 160,
   "id": "43ea98ae",
   "metadata": {
    "collapsed": true
   },
   "outputs": [
    {
     "name": "stdout",
     "output_type": "stream",
     "text": [
      "100\n",
      "95\n",
      "90\n",
      "85\n",
      "80\n",
      "75\n",
      "70\n",
      "65\n",
      "60\n",
      "55\n",
      "50\n",
      "45\n",
      "40\n",
      "35\n",
      "30\n",
      "25\n",
      "20\n",
      "15\n",
      "10\n",
      "5\n"
     ]
    }
   ],
   "source": [
    "z = 100\n",
    "\n",
    "exercise2 = True\n",
    "\n",
    "while exercise2:\n",
    "    print(z)\n",
    "    if z > 5:\n",
    "        z -= 5\n",
    "    else:\n",
    "        exercise2 = False\n",
    "        "
   ]
  },
  {
   "cell_type": "code",
   "execution_count": 135,
   "id": "0e4d487e",
   "metadata": {
    "collapsed": true
   },
   "outputs": [
    {
     "name": "stdout",
     "output_type": "stream",
     "text": [
      "7 X 1 = 7\n",
      "7 X 2 = 14\n",
      "7 X 3 = 21\n",
      "7 X 4 = 28\n",
      "7 X 5 = 35\n",
      "7 X 6 = 42\n",
      "7 X 7 = 49\n",
      "7 X 8 = 56\n",
      "7 X 9 = 63\n",
      "7 X 10 = 70\n"
     ]
    }
   ],
   "source": [
    "#for loops\n",
    "# 2b.\n",
    "var = 7\n",
    "for num in range (1,11):\n",
    "    print (f\"{var} X {num} = {var * num}\")\n"
   ]
  },
  {
   "cell_type": "code",
   "execution_count": 136,
   "id": "3cb76042",
   "metadata": {
    "collapsed": true
   },
   "outputs": [
    {
     "name": "stdout",
     "output_type": "stream",
     "text": [
      "7 x 1 = 7\n",
      "7 x 2 = 14\n",
      "7 x 3 = 21\n",
      "7 x 4 = 28\n",
      "7 x 5 = 35\n",
      "7 x 6 = 42\n",
      "7 x 7 = 49\n",
      "7 x 8 = 56\n",
      "7 x 9 = 63\n",
      "7 x 10 = 70\n"
     ]
    }
   ],
   "source": [
    "number = 7\n",
    "for i in range (1,11):\n",
    "    answer = number * i\n",
    "    print(number,'x', i, '=', answer)"
   ]
  },
  {
   "cell_type": "code",
   "execution_count": null,
   "id": "2cad4520",
   "metadata": {},
   "outputs": [],
   "source": [
    "#Ravinder's\n",
    "\n",
    "num = input('Please enter a positive integer: ')\n",
    "\n",
    "num = int(num)\n",
    "\n",
    "for i in range(1,11):\n",
    "    print(f' {num} * {i} = {num*i}')"
   ]
  },
  {
   "cell_type": "code",
   "execution_count": 163,
   "id": "5a0fc8fe",
   "metadata": {},
   "outputs": [
    {
     "name": "stdout",
     "output_type": "stream",
     "text": [
      "1\n",
      "22\n",
      "333\n",
      "4444\n",
      "55555\n",
      "666666\n",
      "7777777\n",
      "88888888\n",
      "999999999\n"
     ]
    }
   ],
   "source": [
    "for num in range(1,10):\n",
    "    print(str(num)*num)\n"
   ]
  },
  {
   "cell_type": "code",
   "execution_count": 138,
   "id": "3ffa856e",
   "metadata": {},
   "outputs": [
    {
     "name": "stdout",
     "output_type": "stream",
     "text": [
      "Choose an odd number between 1 and 50 to skip: 9\n",
      "\n",
      "\n",
      "Your number is: 9\n",
      "The user's number to skip is: 9\n",
      "\n",
      "\n",
      "Here is an odd number 1\n",
      "Here is an odd number 3\n",
      "Here is an odd number 5\n",
      "Here is an odd number 7\n",
      "Yikes! Skipping number:  9\n",
      "Here is an odd number 11\n",
      "Here is an odd number 13\n",
      "Here is an odd number 15\n",
      "Here is an odd number 17\n",
      "Here is an odd number 19\n",
      "Here is an odd number 21\n",
      "Here is an odd number 23\n",
      "Here is an odd number 25\n",
      "Here is an odd number 27\n",
      "Here is an odd number 29\n",
      "Here is an odd number 31\n",
      "Here is an odd number 33\n",
      "Here is an odd number 35\n",
      "Here is an odd number 37\n",
      "Here is an odd number 39\n",
      "Here is an odd number 41\n",
      "Here is an odd number 43\n",
      "Here is an odd number 45\n",
      "Here is an odd number 47\n",
      "Here is an odd number 49\n"
     ]
    }
   ],
   "source": [
    "#2c\n",
    "\n",
    "user_number = int(input(\"Choose an odd number between 1 and 50 to skip: \"))\n",
    "print()\n",
    "print()\n",
    "type(number)\n",
    "while user_number in range (1, 51):\n",
    "    if (user_number < 51) and (user_number %2 !=0):\n",
    "        print(f\"Your number is: {user_number}\")\n",
    "        break\n",
    "    else:\n",
    "        print(f\"{user_number} is not a valid option\")\n",
    "        user_number = input (\"Please enter a new number \")\n",
    "        print()\n",
    "print(f\"The user's number to skip is: {user_number}\")\n",
    "\n",
    "print()\n",
    "print()\n",
    "\n",
    "for number in range (1,51):\n",
    "    if number %2 ==0:\n",
    "        continue\n",
    "    \n",
    "    \n",
    "    if number == user_number:\n",
    "        print(\"Yikes! Skipping number: \", number)\n",
    "        continue\n",
    "    print(\"Here is an odd number\", number)"
   ]
  },
  {
   "cell_type": "code",
   "execution_count": 169,
   "id": "dd4684d0",
   "metadata": {
    "scrolled": true
   },
   "outputs": [
    {
     "name": "stdout",
     "output_type": "stream",
     "text": [
      "Please enter a odd number between 1 and 50: 37\n",
      "The number to skip is 37\n",
      "Here is an odd number 1\n",
      "Here is an odd number 3\n",
      "Here is an odd number 5\n",
      "Here is an odd number 7\n",
      "Here is an odd number 9\n",
      "Here is an odd number 11\n",
      "Here is an odd number 13\n",
      "Here is an odd number 15\n",
      "Here is an odd number 17\n",
      "Here is an odd number 19\n",
      "Here is an odd number 21\n",
      "Here is an odd number 23\n",
      "Here is an odd number 25\n",
      "Here is an odd number 27\n",
      "Here is an odd number 29\n",
      "Here is an odd number 31\n",
      "Here is an odd number 33\n",
      "Here is an odd number 35\n",
      "Yikes, skipping this number 37\n",
      "Here is an odd number 39\n",
      "Here is an odd number 41\n",
      "Here is an odd number 43\n",
      "Here is an odd number 45\n",
      "Here is an odd number 47\n",
      "Here is an odd number 49\n"
     ]
    }
   ],
   "source": [
    "#Ravinder's Code:\n",
    "\n",
    "num = input('Please enter a odd number between 1 and 50: ')\n",
    "\n",
    "while True:\n",
    "    if (num.isdigit() == False\n",
    "        or int(num)>50\n",
    "        or int(num) <=0 \n",
    "        or int(num) %2 ==0):\n",
    "            print('Invalid Input')\n",
    "            num = input('Please enter a odd number between 1 and 50')\n",
    "    else:\n",
    "        break\n",
    "num = int(num)\n",
    "print('The number to skip is', num)\n",
    "\n",
    "for i in range (1,50):\n",
    "    if i%2 == 0:\n",
    "        continue\n",
    "    elif i == num:\n",
    "        print('Yikes, skipping this number', i)\n",
    "    else:\n",
    "        print('Here is an odd number', i)"
   ]
  },
  {
   "cell_type": "code",
   "execution_count": 171,
   "id": "ae332695",
   "metadata": {
    "scrolled": true
   },
   "outputs": [
    {
     "name": "stdout",
     "output_type": "stream",
     "text": [
      "Choose a positive number: 90\n",
      "Your number is: 90\n",
      "0\n",
      "1\n",
      "2\n",
      "3\n",
      "4\n",
      "5\n",
      "6\n",
      "7\n",
      "8\n",
      "9\n",
      "10\n",
      "11\n",
      "12\n",
      "13\n",
      "14\n",
      "15\n",
      "16\n",
      "17\n",
      "18\n",
      "19\n",
      "20\n",
      "21\n",
      "22\n",
      "23\n",
      "24\n",
      "25\n",
      "26\n",
      "27\n",
      "28\n",
      "29\n",
      "30\n",
      "31\n",
      "32\n",
      "33\n",
      "34\n",
      "35\n",
      "36\n",
      "37\n",
      "38\n",
      "39\n",
      "40\n",
      "41\n",
      "42\n",
      "43\n",
      "44\n",
      "45\n",
      "46\n",
      "47\n",
      "48\n",
      "49\n",
      "50\n",
      "51\n",
      "52\n",
      "53\n",
      "54\n",
      "55\n",
      "56\n",
      "57\n",
      "58\n",
      "59\n",
      "60\n",
      "61\n",
      "62\n",
      "63\n",
      "64\n",
      "65\n",
      "66\n",
      "67\n",
      "68\n",
      "69\n",
      "70\n",
      "71\n",
      "72\n",
      "73\n",
      "74\n",
      "75\n",
      "76\n",
      "77\n",
      "78\n",
      "79\n",
      "80\n",
      "81\n",
      "82\n",
      "83\n",
      "84\n",
      "85\n",
      "86\n",
      "87\n",
      "88\n",
      "89\n",
      "90\n"
     ]
    }
   ],
   "source": [
    "#2d.\n",
    "\n",
    "users_pick = int(input(\"Choose a positive number: \"))\n",
    "\n",
    "while users_pick < 0:\n",
    "    print(f\"Your number is not valid {users_pick}\")\n",
    "    break\n",
    "else:\n",
    "    print(f\"Your number is: {users_pick}\")\n",
    "\n",
    "for x in range(0,users_pick+1):\n",
    "    print(x)\n",
    "    \n"
   ]
  },
  {
   "cell_type": "code",
   "execution_count": 139,
   "id": "52b92778",
   "metadata": {},
   "outputs": [
    {
     "name": "stdout",
     "output_type": "stream",
     "text": [
      "Choose a positive number: \n",
      "9\n",
      "Your number is: 9\n",
      "\n",
      "0\n",
      "1\n",
      "2\n",
      "3\n",
      "4\n",
      "5\n",
      "6\n",
      "7\n",
      "8\n",
      "9\n"
     ]
    }
   ],
   "source": [
    "#2d.\n",
    "while True:\n",
    "    print(\"Choose a positive number: \")\n",
    "    users_num = input()\n",
    "    \n",
    "    if users_num.isdigit() == False:\n",
    "        print()\n",
    "        print(\"Please try again, enter a positive whole number\")\n",
    "    else:\n",
    "        \n",
    "        users_num = int(users_num)\n",
    "       \n",
    "        print(f\"Your number is: {users_num}\")\n",
    "        print()\n",
    "        \n",
    "        break\n",
    "\n",
    "for x in range(0,users_num+1):\n",
    "    \n",
    "    print(x)"
   ]
  },
  {
   "cell_type": "code",
   "execution_count": 140,
   "id": "5321368b",
   "metadata": {
    "scrolled": false
   },
   "outputs": [
    {
     "name": "stdout",
     "output_type": "stream",
     "text": [
      "Choose a positive number: \n",
      "9\n",
      "Your number is: 9\n",
      "\n",
      "9\n",
      "8\n",
      "7\n",
      "6\n",
      "5\n",
      "4\n",
      "3\n",
      "2\n",
      "1\n"
     ]
    }
   ],
   "source": [
    "#2e.\n",
    "while True:\n",
    "    print(\"Choose a positive number: \")\n",
    "    pick = input()\n",
    "    \n",
    "    if pick.isdigit() == False:\n",
    "        print()\n",
    "        print(\"Please try again, enter a positive whole number\")\n",
    "    else:\n",
    "        \n",
    "        pick = int(pick)\n",
    "       \n",
    "        print(f\"Your number is: {pick}\")\n",
    "        print()\n",
    "        \n",
    "        break\n",
    "#reversed(range(1,pick+1)) - ravinder\n",
    "for x in range(pick,0,-1):\n",
    "    \n",
    "    print(x)"
   ]
  },
  {
   "cell_type": "code",
   "execution_count": 173,
   "id": "9b5bfea8",
   "metadata": {
    "scrolled": true
   },
   "outputs": [
    {
     "name": "stdout",
     "output_type": "stream",
     "text": [
      "1\n",
      "2\n",
      "Fizz\n",
      "4\n",
      "Buzz\n",
      "Fizz\n",
      "7\n",
      "8\n",
      "Fizz\n",
      "Buzz\n",
      "11\n",
      "Fizz\n",
      "13\n",
      "14\n",
      "FizzBuzz\n",
      "16\n",
      "17\n",
      "Fizz\n",
      "19\n",
      "Buzz\n",
      "Fizz\n",
      "22\n",
      "23\n",
      "Fizz\n",
      "Buzz\n",
      "26\n",
      "Fizz\n",
      "28\n",
      "29\n",
      "FizzBuzz\n",
      "31\n",
      "32\n",
      "Fizz\n",
      "34\n",
      "Buzz\n",
      "Fizz\n",
      "37\n",
      "38\n",
      "Fizz\n",
      "Buzz\n",
      "41\n",
      "Fizz\n",
      "43\n",
      "44\n",
      "FizzBuzz\n",
      "46\n",
      "47\n",
      "Fizz\n",
      "49\n",
      "Buzz\n",
      "Fizz\n",
      "52\n",
      "53\n",
      "Fizz\n",
      "Buzz\n",
      "56\n",
      "Fizz\n",
      "58\n",
      "59\n",
      "FizzBuzz\n",
      "61\n",
      "62\n",
      "Fizz\n",
      "64\n",
      "Buzz\n",
      "Fizz\n",
      "67\n",
      "68\n",
      "Fizz\n",
      "Buzz\n",
      "71\n",
      "Fizz\n",
      "73\n",
      "74\n",
      "FizzBuzz\n",
      "76\n",
      "77\n",
      "Fizz\n",
      "79\n",
      "Buzz\n",
      "Fizz\n",
      "82\n",
      "83\n",
      "Fizz\n",
      "Buzz\n",
      "86\n",
      "Fizz\n",
      "88\n",
      "89\n",
      "FizzBuzz\n",
      "91\n",
      "92\n",
      "Fizz\n",
      "94\n",
      "Buzz\n",
      "Fizz\n",
      "97\n",
      "98\n",
      "Fizz\n",
      "Buzz\n"
     ]
    }
   ],
   "source": [
    "#3 Fizzbuzz\n",
    "\n",
    "for x in range (1,101):\n",
    "    if x % 5 == 0 and x % 3 == 0:\n",
    "        print (\"FizzBuzz\")\n",
    "    \n",
    "    elif x % 3 == 0:\n",
    "        print (\"Fizz\")\n",
    "        \n",
    "    elif x % 5 == 0:\n",
    "        print (\"Buzz\")\n",
    "        \n",
    "    else:\n",
    "        print (x)\n",
    "\n"
   ]
  },
  {
   "cell_type": "code",
   "execution_count": 174,
   "id": "9b1a03ed",
   "metadata": {
    "scrolled": true
   },
   "outputs": [
    {
     "name": "stdout",
     "output_type": "stream",
     "text": [
      "What number would you like to go up to? \n",
      "9\n",
      "\n",
      "Here is your table!\n",
      "\n",
      "Number | Squared | Cubed \n",
      "|------|---------|-------\n",
      "|1     |1         |1\n",
      "|2     |4         |8\n",
      "|3     |9         |27\n",
      "|4     |16         |64\n",
      "|5     |25         |125\n",
      "|6     |36         |216\n",
      "|7     |49         |343\n",
      "|8     |64         |512\n",
      "|9     |81         |729\n"
     ]
    }
   ],
   "source": [
    "#4\n",
    "while True:\n",
    "    print(\"What number would you like to go up to? \")\n",
    "    num_pick = input()\n",
    "    \n",
    "    if num_pick.isdigit() == False:\n",
    "        print()\n",
    "        print(\"Please try again, enter a number to go up to\")\n",
    "    else:\n",
    "        print()\n",
    "        print(\"Here is your table!\")\n",
    "        print()\n",
    "        print(\"Number | Squared | Cubed \")\n",
    "        print(\"|------|---------|-------\")\n",
    "        num_pick = int(num_pick)\n",
    "        for i in range (1 ,num_pick+1):\n",
    "            print(f\"|{i}     |{i**2}         |{i**3}\")\n",
    "    break     \n",
    "\n",
    "    #str(num).lijust(6) - Jeanette's tip - take a look at her git for bonus"
   ]
  },
  {
   "cell_type": "code",
   "execution_count": 176,
   "id": "f4be68e0",
   "metadata": {},
   "outputs": [
    {
     "name": "stdout",
     "output_type": "stream",
     "text": [
      "Please enter an integer: 9\n",
      "Here is your table!\n",
      "\n",
      "Number | Squared | Cubed \n",
      "|------|---------|-------\n",
      "1      |   1      |       1\n",
      "2      |   4      |       8\n",
      "3      |   9      |       27\n",
      "4      |   16      |       64\n",
      "5      |   25      |       125\n",
      "6      |   36      |       216\n",
      "7      |   49      |       343\n",
      "8      |   64      |       512\n",
      "9      |   81      |       729\n"
     ]
    }
   ],
   "source": [
    "#Ravinder's Code\n",
    "num = input('Please enter an integer: ')\n",
    "\n",
    "print('Here is your table!')\n",
    "print()\n",
    "print(\"Number | Squared | Cubed \")\n",
    "print(\"|------|---------|-------\")\n",
    "\n",
    "num = int(num)\n",
    "\n",
    "for i in range(1, num+1):\n",
    "    print(f'{i}      |   {i**2}      |       {i**3}')\n",
    "    \n"
   ]
  },
  {
   "cell_type": "code",
   "execution_count": 145,
   "id": "d1207e33",
   "metadata": {
    "scrolled": true
   },
   "outputs": [
    {
     "name": "stdout",
     "output_type": "stream",
     "text": [
      "Please enter your score for a grade: \n",
      "75\n",
      "You got a C\n"
     ]
    }
   ],
   "source": [
    "#prompt user for a grade number\n",
    "\n",
    "while True:\n",
    "    print(\"Please enter your score for a grade: \")\n",
    "    grade = input()\n",
    "    \n",
    "    if grade.isdigit() == False:\n",
    "        print()\n",
    "        print(\"Please try again\")\n",
    "        print()\n",
    "        \n",
    "    elif int(grade) >= 88 and int(grade) <= 100:\n",
    "        print(\"You got a A\")\n",
    "    elif int(grade) >= 80 and int(grade) < 88:\n",
    "        print (\"You got a B\")\n",
    "    elif int(grade) >= 67 and int(grade) < 80:\n",
    "        print(\"You got a C\")\n",
    "    elif int(grade) >=66 and int(grade) <67:\n",
    "        print(\"You got a D\")\n",
    "    else:\n",
    "        print(\"you got a F, you failed\")\n",
    "    break"
   ]
  },
  {
   "cell_type": "code",
   "execution_count": 183,
   "id": "fe744378",
   "metadata": {},
   "outputs": [
    {
     "name": "stdout",
     "output_type": "stream",
     "text": [
      "Please enter your score for a grade: 90\n",
      "A\n"
     ]
    }
   ],
   "source": [
    "#Ravinder's Code\n",
    "num = input(\"Please enter your score for a grade: \")\n",
    "num = int(num)\n",
    "\n",
    "if num >= 88:\n",
    "    print('A')\n",
    "elif num >= 80:\n",
    "    print('B')\n",
    "elif num >= 67:\n",
    "    print('C')\n",
    "elif num >= 60:\n",
    "    print('D')\n",
    "else:\n",
    "    print('F')"
   ]
  },
  {
   "cell_type": "code",
   "execution_count": 144,
   "id": "aac249a8",
   "metadata": {},
   "outputs": [
    {
     "name": "stdout",
     "output_type": "stream",
     "text": [
      "Title : In Cold Blood\n",
      "Author : Truman Capote\n",
      "Genre : Non Fiction\n",
      "\n",
      "\n",
      "Title : His Dark Materials Omnibus\n",
      "Author : Philip Pullman\n",
      "Genre : Fantasy\n",
      "\n",
      "\n",
      "Title : Guns, Germs, & Steel\n",
      "Author : Jared Diamond\n",
      "Genre : History\n",
      "\n",
      "\n",
      "Title : Name of the Wind\n",
      "Author : Patrick Rothfuss\n",
      "Genre : Fantasy\n",
      "\n",
      "\n",
      "Title : Kitchen Confidential\n",
      "Author : Anthony Bourdain\n",
      "Genre : Biography\n",
      "\n",
      "\n",
      "Title : Lies of Locke Lamora\n",
      "Author : Scott Lynch\n",
      "Genre : Fantasy\n",
      "\n",
      "\n"
     ]
    }
   ],
   "source": [
    "# Create a list of dictionaries where each dictionary represents a book that you have read. \n",
    "#Each dictionary in the list should have the keys title, author, and genre. \n",
    "#Loop through the list and print out information about each book.\n",
    "\n",
    "my_books= [\n",
    "{'Title':'In Cold Blood', 'Author':'Truman Capote', 'Genre':'Non Fiction'},\n",
    "{'Title':'His Dark Materials Omnibus','Author':'Philip Pullman', 'Genre':'Fantasy'},\n",
    "{'Title':'Guns, Germs, & Steel', 'Author':'Jared Diamond', 'Genre':'History'},\n",
    "{'Title':'Name of the Wind', 'Author':'Patrick Rothfuss', 'Genre':'Fantasy'},\n",
    "{'Title':'Kitchen Confidential', 'Author':'Anthony Bourdain', 'Genre':'Biography'},\n",
    "{'Title':'Lies of Locke Lamora', 'Author':'Scott Lynch','Genre':'Fantasy'}]\n",
    "\n",
    "for x in my_books:\n",
    "    for y in x:\n",
    "        print(y,':',x[y])\n",
    "    print ('\\n')\n"
   ]
  },
  {
   "cell_type": "code",
   "execution_count": 186,
   "id": "c764b7cb",
   "metadata": {},
   "outputs": [
    {
     "name": "stdout",
     "output_type": "stream",
     "text": [
      "Please pick a genre from my books: \n",
      " Non Fiction \n",
      " Fantasy \n",
      " History \n",
      " Biography\n",
      "\n",
      "Biography\n",
      "\n",
      "Title : Kitchen Confidential\n",
      "\n",
      "Author : Anthony Bourdain\n",
      "\n",
      "Genre : Biography\n",
      "\n"
     ]
    }
   ],
   "source": [
    "while True:\n",
    "    print ('Please pick a genre from my books: \\n Non Fiction \\n Fantasy \\n History \\n Biography')\n",
    "    print()\n",
    "    pick = input()\n",
    "    \n",
    "    if pick == False:\n",
    "        print('Please pick again')\n",
    "    else:\n",
    "        print()\n",
    "        for z in my_books:\n",
    "            if z['Genre'] == pick:\n",
    "                for w in z:\n",
    "                    print(w, ':', z[w])\n",
    "                    print()\n",
    "    break"
   ]
  },
  {
   "cell_type": "code",
   "execution_count": null,
   "id": "197c5a56",
   "metadata": {},
   "outputs": [],
   "source": []
  }
 ],
 "metadata": {
  "kernelspec": {
   "display_name": "Python 3",
   "language": "python",
   "name": "python3"
  }
 },
 "nbformat": 4,
 "nbformat_minor": 5
}
