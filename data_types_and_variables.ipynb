{
 "cells": [
  {
   "cell_type": "code",
   "execution_count": 20,
   "id": "8d2e272b",
   "metadata": {},
   "outputs": [
    {
     "data": {
      "text/plain": [
       "'Total rental cost is $ 27'"
      ]
     },
     "execution_count": 20,
     "metadata": {},
     "output_type": "execute_result"
    }
   ],
   "source": [
    "little_mermaid = 3\n",
    "brother_bear = 5\n",
    "hercules = 1\n",
    "price_per_day = 3\n",
    "\n",
    "movie_days = little_mermaid + brother_bear + hercules\n",
    "total_cost = movie_days * price_per_day\n",
    "\n",
    "'Total rental cost is $ {}'.format(total_cost)"
   ]
  },
  {
   "cell_type": "code",
   "execution_count": 56,
   "id": "406b9357",
   "metadata": {},
   "outputs": [
    {
     "name": "stdout",
     "output_type": "stream",
     "text": [
      "Google payment is : $2400\n",
      "Amazon payment is : $1520\n",
      "Facebook payment is : $3500\n"
     ]
    }
   ],
   "source": [
    "google_pay = 400\n",
    "amazon_pay = 380\n",
    "facebook_pay = 350\n",
    "facebook_hours = 10\n",
    "google_hours = 6\n",
    "amazon_hours = 4\n",
    "\n",
    "google_total = google_pay * google_hours\n",
    "amazon_total = amazon_pay * amazon_hours\n",
    "facebook_total = facebook_pay * facebook_hours\n",
    "\n",
    "total_payment = google_total + amazon_total + facebook_total\n",
    "\n",
    "g = (\"Google payment is : ${}\".format(google_total))\n",
    "\n",
    "a = (\"Amazon payment is : ${}\".format(amazon_total))\n",
    "\n",
    "f = (\"Facebook payment is : ${}\".format(facebook_total))\n",
    "\n",
    "print(g)\n",
    "print(a)\n",
    "print(f)"
   ]
  },
  {
   "cell_type": "code",
   "execution_count": 64,
   "id": "da07d2ec",
   "metadata": {},
   "outputs": [
    {
     "name": "stdout",
     "output_type": "stream",
     "text": [
      "Can the student enroll? False\n"
     ]
    }
   ],
   "source": [
    "#A student can be enrolled to a class only if the class is not full and the class schedule does not conflict with her current schedule.\n",
    "\n",
    "class_has_room = True\n",
    "schedule_conflict = False \n",
    "\n",
    "can_enroll = class_has_room and schedule_conflict\n",
    "\n",
    "print(\"Can the student enroll? {}\".format(can_enroll))"
   ]
  },
  {
   "cell_type": "code",
   "execution_count": 70,
   "id": "897a8b97",
   "metadata": {},
   "outputs": [
    {
     "data": {
      "text/plain": [
       "True"
      ]
     },
     "execution_count": 70,
     "metadata": {},
     "output_type": "execute_result"
    }
   ],
   "source": [
    "# A product offer can be applied only if people buys more than 2 items, and the offer has not expired. Premium members do not need to buy a specific amount of products.\n",
    "\n",
    "buy_more_than_2 = False\n",
    "offer_expired = True\n",
    "premium_member = True\n",
    "\n",
    "offer_accepted = offer_expired and (premium_member or buy_more_than_2)\n",
    "offer_accepted "
   ]
  },
  {
   "cell_type": "code",
   "execution_count": 75,
   "id": "c5857200",
   "metadata": {},
   "outputs": [],
   "source": [
    "username = 'codeup'\n",
    "password = 'notastrongpassword'\n",
    "\n",
    "password_len = len(password) >= 5\n",
    "username_len = len(username) <= 20\n",
    "password_username_dif = (username != password)\n",
    "\n",
    "password_no_space = password.join(password)\n",
    "username_no_space = username.join(username)"
   ]
  }
 ],
 "metadata": {
  "kernelspec": {
   "display_name": "Python 3",
   "language": "python",
   "name": "python3"
  },
  "language_info": {
   "codemirror_mode": {
    "name": "ipython",
    "version": 3
   },
   "file_extension": ".py",
   "mimetype": "text/x-python",
   "name": "python",
   "nbconvert_exporter": "python",
   "pygments_lexer": "ipython3",
   "version": "3.8.8"
  }
 },
 "nbformat": 4,
 "nbformat_minor": 5
}
